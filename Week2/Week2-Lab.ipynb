{
 "cells": [
  {
   "cell_type": "markdown",
   "metadata": {
    "colab_type": "text",
    "id": "YQPaHbIjl01G"
   },
   "source": [
    "## Handling Missing Data, Loading and Plotting Data and Logistic Regression\n",
    "-----\n",
    "\n",
    "## Introduction \n",
    "##### In this lab, we will first see some basic way to handle missing data. \n",
    "\n",
    "##### Next, we will load a simple dataset and visualise its features in a two dimensional space. \n",
    "\n",
    "##### Finally, we will learn how to implement Logistic Regression (LR). This is a very important problem in machine learning and is applied to solve a variety of real life tasks. For example, financial services such as banks can rely on historical data of customers' credit record for loan approval by humans to automate the decision making process. A logistic regression model can be trained on these data, and then used to predict loan acceptance for future applicants. In particalar in this lab, you will apply Logistic Regression to predict survival on Titanic. \n",
    "\n",
    "### Objectives:\n",
    "1. Revise fundamental concpets of LR and visualize the sigmoid function\n",
    "4. Perform data pre-processing and preparation.  \n",
    "5. Implement Logistic Regression with sklearn\n",
    "6. Perform thresholding for selecting the optimum threshold\n",
    "-----"
   ]
  },
  {
   "cell_type": "markdown",
   "metadata": {},
   "source": [
    "## Part 1: Loading and Plotting Data\n"
   ]
  },
  {
   "cell_type": "markdown",
   "metadata": {},
   "source": [
    "\n",
    "In this part, revisit the Iris dataset from week 1's lab (please see week 1's lab) and practice loading, visualizing, and interpreting data.\n",
    "\n",
    "The dataset has 150 rows and four columns. \n",
    "\n",
    "Rows represent 150 samples of iris flowers. \n",
    "\n",
    "Columns represent four features of a flower: \n",
    "\n",
    "1. Column 0: Sepal length (in cm)\n",
    "2. Column 1: Sepal width (in cm)\n",
    "3. Column 2: Petal length (in cm)\n",
    "4. Column 3: Petal width (in cm)\n"
   ]
  },
  {
   "cell_type": "code",
   "execution_count": 1,
   "metadata": {},
   "outputs": [],
   "source": [
    "\n",
    "# Load the Iris dataset and plot sepal length vs sepal width\n",
    "# Use matplotlib for plotting\n",
    "# Write your observations based on the plot\n"
   ]
  },
  {
   "cell_type": "markdown",
   "metadata": {},
   "source": [
    "## Part 2: Role of Data in AI\n"
   ]
  },
  {
   "cell_type": "markdown",
   "metadata": {},
   "source": [
    "In AI, data is crucial for building accurate models. However, real-world data often contains issues such as missing values. It's essential to handle missing data properly to avoid inaccuracies in our models.\n",
    "\n",
    "One common technique to handle missing data is to replace missing values with the mean (average) of the available data. This approach helps to maintain the dataset's overall structure without introducing bias from incomplete data.\n",
    "\n",
    "In this part, you will practice handling missing data by replacing missing values with the mean.\n",
    "\n",
    "You'll work with both a list of meaningful numbers and a matrix representing real-world data.\n",
    "\n",
    "Let's get started!\n",
    "\n",
    "But as you start, please note that np.nan represents a missing or undefined numerical value in a dataset. It stands for \"Not a Number\" and is commonly used to handle missing data in numerical arrays.\n"
   ]
  },
  {
   "cell_type": "markdown",
   "metadata": {},
   "source": [
    "### Case 1: Handling Missing Values in a List (Real-World Example)\n"
   ]
  },
  {
   "cell_type": "code",
   "execution_count": 3,
   "metadata": {},
   "outputs": [],
   "source": [
    "import numpy as np\n",
    "# You are given a list of daily temperatures (in Celsius) over a month, with some missing values.\n",
    "\n",
    "temperatures = [22, 24, np.nan, 19, 21, np.nan, 23, 25, np.nan, 20, 26, np.nan, 24, 23, np.nan, 22, 21, 24, 25, 26, \n",
    "                23, None, 22, np.nan, 21, 20, 19, np.nan, 22, 23]\n",
    "\n",
    "# Your tasks:\n",
    "# 1. Count the missing values (None or np.nan).\n",
    "# 2. Replace missing values with the mean of the non-missing values.\n"
   ]
  },
  {
   "cell_type": "markdown",
   "metadata": {},
   "source": [
    "### Case 2: Handling Missing Values in a Matrix (Real-World Example)"
   ]
  },
  {
   "cell_type": "code",
   "execution_count": 4,
   "metadata": {},
   "outputs": [],
   "source": [
    "\n",
    "# You are given a matrix representing sales data for different products over several weeks, with some missing values.\n",
    "# Each column represents a different product, and each row represents sales in a given week.\n",
    "\n",
    "sales_data = np.array([[200, 300, np.nan],\n",
    "                       [180, np.nan, 350],\n",
    "                       [np.nan, 280, 370],\n",
    "                       [210, np.nan, 360],\n",
    "                       [220, 310, np.nan],\n",
    "                       [np.nan, 290, 340],\n",
    "                       [190, 305, 355]])\n",
    "\n",
    "# Your tasks:\n",
    "# 1. Count the missing values in each column.\n",
    "# 2. Replace the missing values with the mean of the respective column."
   ]
  },
  {
   "cell_type": "markdown",
   "metadata": {
    "colab_type": "text",
    "id": "DJE95f4yGU_i"
   },
   "source": [
    "## Part 3: Visualization of basic concepts of Logistic Regression\n",
    "\n",
    "\n",
    "##### Here are the main equations behind Logistic Regression:\n",
    "\n",
    "\n",
    "##### Given a data point $(x_i, y_i)$ where $x_i=\\{x_i^1,x_i^2, x_i^3,...,x_i^n\\}$;  $x_i^j$ represents the feature $j$ and $y_i$ the associated class label.\n",
    "\n",
    "#### Considering the hypothesis function $f(x_i) = w_0 + w_1 x_i^1 + + w_2 x_i^2 + ... + w_d x_i^d$  the output of the LR model is the sigmoid function applied to $f(x_i)$, i.e., \n",
    "\n",
    "\n",
    "##### $\\hat p(x_i) = \\frac{1}{1+e^{-f(x_i)}}$\n",
    "\n",
    "\n",
    "##### Given the predicted $\\hat{p}(x_i)$ of the $x_i$ The loss of classifying the data point  is computed as follow:\n",
    " \n",
    "\n",
    "$L(\\hat{p}(x_i), y_i) = -y_i\\log (\\hat{p}(x_i)) - (1 - y)_i\\log (1 -\\hat{p}(x_i))$\n",
    " \n",
    "\n",
    "#### The goal of the LR model is to find the values of the parameters $\\{w_i\\}_{i=0}^{d}$ such that the average loss $L$ on the training dataset is minimized.\n",
    "\n",
    "#### Remember that the probabilities are mapped to the class labels using a threshold.\n",
    "\n",
    "$\\hat y = \\left\\{\\begin{matrix}\n",
    "1 && \\hat p(x) > threshold\\\\ \n",
    "0 && otherwise \n",
    "\\end{matrix}\\right.$\n",
    "\n",
    " \n",
    " \n",
    "Let's now see how the shape of $\\hat p(x)$ depend on its parameters for a single feature: $w_0 + w_1 x_i$:"
   ]
  },
  {
   "cell_type": "code",
   "execution_count": 2,
   "metadata": {
    "colab": {},
    "colab_type": "code",
    "id": "8mwZdElFli7v"
   },
   "outputs": [],
   "source": [
    "import numpy as np\n",
    "import matplotlib.pyplot as plt\n",
    "%matplotlib inline "
   ]
  },
  {
   "cell_type": "code",
   "execution_count": 3,
   "metadata": {
    "colab": {
     "base_uri": "https://localhost:8080/",
     "height": 269
    },
    "colab_type": "code",
    "id": "zibEd5lsI2Xn",
    "outputId": "fdecdabc-0bba-4695-decb-dd2d1c176b3c"
   },
   "outputs": [
    {
     "data": {
      "image/png": "[encoded data removed]",
      "text/plain": [
       "<Figure size 640x480 with 1 Axes>"
      ]
     },
     "metadata": {},
     "output_type": "display_data"
    }
   ],
   "source": [
    "x = np.arange(-10, 10, 0.01)\n",
    "\n",
    "def plot(w0, w1):\n",
    "    p = 1 / (1 + np.exp(-(w0 + w1 * x)))\n",
    "    label = \"w0 = {}, w1 = {}\".format(w0, w1)\n",
    "    plt.plot(x, p, label=label)\n",
    "\n",
    "plot(0,1)\n",
    "plot(0,2)\n",
    "plot(0,3)\n",
    "plot(5,1)\n",
    "plt.legend()\n",
    "plt.title('Sigmoid function')\n",
    "plt.show()"
   ]
  },
  {
   "cell_type": "markdown",
   "metadata": {},
   "source": [
    "- First we created one-dimensional NumPy array called x, which contains evenly spaced values between -10 and 10, with a step size of 0.01.\n",
    "\n",
    "- Next we defined a function named plot that takes two arguments, w0 and w1. It calculates the sigmoid function for the given values of w0 and w1 using the x array created earlier, and then plots the resulting curve using Matplotlib."
   ]
  },
  {
   "cell_type": "markdown",
   "metadata": {
    "colab_type": "text",
    "id": "_rqF7CozNK1F"
   },
   "source": [
    "Question: What is controlled by parameters w0, w1?  \n",
    "\n"
   ]
  },
  {
   "cell_type": "markdown",
   "metadata": {},
   "source": [
    "## Part 4: Implementing Logistic Regression for a Classification Problem"
   ]
  },
  {
   "cell_type": "markdown",
   "metadata": {},
   "source": [
    "In this part, we will implement Logistic Regression for a binay classification problem.\n",
    "\n",
    "More specifically, we will use the Titanic Dataset.\n",
    "\n",
    "The Titanic dataset is a famous machine learning dataset that contains information about the passengers who were on board the Titanic when it sank on April 15, 1912. It contains information about the passengers, such as their age, gender, ticket class, cabin location, and whether or not they survived the disaster. The goal of the dataset is to predict whether a passenger survived or not based on the other available information."
   ]
  },
  {
   "cell_type": "markdown",
   "metadata": {},
   "source": [
    "### Loading Data"
   ]
  },
  {
   "cell_type": "code",
   "execution_count": 15,
   "metadata": {
    "scrolled": true
   },
   "outputs": [
    {
     "data": {
      "text/html": [
       "<div>\n",
       "<style scoped>\n",
       "    .dataframe tbody tr th:only-of-type {\n",
       "        vertical-align: middle;\n",
       "    }\n",
       "\n",
       "    .dataframe tbody tr th {\n",
       "        vertical-align: top;\n",
       "    }\n",
       "\n",
       "    .dataframe thead th {\n",
       "        text-align: right;\n",
       "    }\n",
       "</style>\n",
       "<table border=\"1\" class=\"dataframe\">\n",
       "  <thead>\n",
       "    <tr style=\"text-align: right;\">\n",
       "      <th></th>\n",
       "      <th>survived</th>\n",
       "      <th>pclass</th>\n",
       "      <th>name</th>\n",
       "      <th>sex</th>\n",
       "      <th>age</th>\n",
       "      <th>sibsp</th>\n",
       "      <th>parch</th>\n",
       "      <th>fare</th>\n",
       "      <th>embarked</th>\n",
       "    </tr>\n",
       "  </thead>\n",
       "  <tbody>\n",
       "    <tr>\n",
       "      <th>0</th>\n",
       "      <td>1</td>\n",
       "      <td>1</td>\n",
       "      <td>Allen, Miss. Elisabeth Walton</td>\n",
       "      <td>female</td>\n",
       "      <td>29.00</td>\n",
       "      <td>0</td>\n",
       "      <td>0</td>\n",
       "      <td>211.3375</td>\n",
       "      <td>S</td>\n",
       "    </tr>\n",
       "    <tr>\n",
       "      <th>1</th>\n",
       "      <td>1</td>\n",
       "      <td>1</td>\n",
       "      <td>Allison, Master. Hudson Trevor</td>\n",
       "      <td>male</td>\n",
       "      <td>0.92</td>\n",
       "      <td>1</td>\n",
       "      <td>2</td>\n",
       "      <td>151.5500</td>\n",
       "      <td>S</td>\n",
       "    </tr>\n",
       "    <tr>\n",
       "      <th>2</th>\n",
       "      <td>0</td>\n",
       "      <td>1</td>\n",
       "      <td>Allison, Miss. Helen Loraine</td>\n",
       "      <td>female</td>\n",
       "      <td>2.00</td>\n",
       "      <td>1</td>\n",
       "      <td>2</td>\n",
       "      <td>151.5500</td>\n",
       "      <td>S</td>\n",
       "    </tr>\n",
       "    <tr>\n",
       "      <th>3</th>\n",
       "      <td>0</td>\n",
       "      <td>1</td>\n",
       "      <td>Allison, Mr. Hudson Joshua Creighton</td>\n",
       "      <td>male</td>\n",
       "      <td>30.00</td>\n",
       "      <td>1</td>\n",
       "      <td>2</td>\n",
       "      <td>151.5500</td>\n",
       "      <td>S</td>\n",
       "    </tr>\n",
       "    <tr>\n",
       "      <th>4</th>\n",
       "      <td>0</td>\n",
       "      <td>1</td>\n",
       "      <td>Allison, Mrs. Hudson J C (Bessie Waldo Daniels)</td>\n",
       "      <td>female</td>\n",
       "      <td>25.00</td>\n",
       "      <td>1</td>\n",
       "      <td>2</td>\n",
       "      <td>151.5500</td>\n",
       "      <td>S</td>\n",
       "    </tr>\n",
       "    <tr>\n",
       "      <th>...</th>\n",
       "      <td>...</td>\n",
       "      <td>...</td>\n",
       "      <td>...</td>\n",
       "      <td>...</td>\n",
       "      <td>...</td>\n",
       "      <td>...</td>\n",
       "      <td>...</td>\n",
       "      <td>...</td>\n",
       "      <td>...</td>\n",
       "    </tr>\n",
       "    <tr>\n",
       "      <th>1304</th>\n",
       "      <td>0</td>\n",
       "      <td>3</td>\n",
       "      <td>Zabour, Miss. Hileni</td>\n",
       "      <td>female</td>\n",
       "      <td>14.50</td>\n",
       "      <td>1</td>\n",
       "      <td>0</td>\n",
       "      <td>14.4542</td>\n",
       "      <td>C</td>\n",
       "    </tr>\n",
       "    <tr>\n",
       "      <th>1305</th>\n",
       "      <td>0</td>\n",
       "      <td>3</td>\n",
       "      <td>Zabour, Miss. Thamine</td>\n",
       "      <td>female</td>\n",
       "      <td>NaN</td>\n",
       "      <td>1</td>\n",
       "      <td>0</td>\n",
       "      <td>14.4542</td>\n",
       "      <td>C</td>\n",
       "    </tr>\n",
       "    <tr>\n",
       "      <th>1306</th>\n",
       "      <td>0</td>\n",
       "      <td>3</td>\n",
       "      <td>Zakarian, Mr. Mapriededer</td>\n",
       "      <td>male</td>\n",
       "      <td>26.50</td>\n",
       "      <td>0</td>\n",
       "      <td>0</td>\n",
       "      <td>7.2250</td>\n",
       "      <td>C</td>\n",
       "    </tr>\n",
       "    <tr>\n",
       "      <th>1307</th>\n",
       "      <td>0</td>\n",
       "      <td>3</td>\n",
       "      <td>Zakarian, Mr. Ortin</td>\n",
       "      <td>male</td>\n",
       "      <td>27.00</td>\n",
       "      <td>0</td>\n",
       "      <td>0</td>\n",
       "      <td>7.2250</td>\n",
       "      <td>C</td>\n",
       "    </tr>\n",
       "    <tr>\n",
       "      <th>1308</th>\n",
       "      <td>0</td>\n",
       "      <td>3</td>\n",
       "      <td>Zimmerman, Mr. Leo</td>\n",
       "      <td>male</td>\n",
       "      <td>29.00</td>\n",
       "      <td>0</td>\n",
       "      <td>0</td>\n",
       "      <td>7.8750</td>\n",
       "      <td>S</td>\n",
       "    </tr>\n",
       "  </tbody>\n",
       "</table>\n",
       "<p>1309 rows × 9 columns</p>\n",
       "</div>"
      ],
      "text/plain": [
       "      survived  pclass                                             name  \\\n",
       "0            1       1                    Allen, Miss. Elisabeth Walton   \n",
       "1            1       1                   Allison, Master. Hudson Trevor   \n",
       "2            0       1                     Allison, Miss. Helen Loraine   \n",
       "3            0       1             Allison, Mr. Hudson Joshua Creighton   \n",
       "4            0       1  Allison, Mrs. Hudson J C (Bessie Waldo Daniels)   \n",
       "...        ...     ...                                              ...   \n",
       "1304         0       3                             Zabour, Miss. Hileni   \n",
       "1305         0       3                            Zabour, Miss. Thamine   \n",
       "1306         0       3                        Zakarian, Mr. Mapriededer   \n",
       "1307         0       3                              Zakarian, Mr. Ortin   \n",
       "1308         0       3                               Zimmerman, Mr. Leo   \n",
       "\n",
       "         sex    age  sibsp  parch      fare embarked  \n",
       "0     female  29.00      0      0  211.3375        S  \n",
       "1       male   0.92      1      2  151.5500        S  \n",
       "2     female   2.00      1      2  151.5500        S  \n",
       "3       male  30.00      1      2  151.5500        S  \n",
       "4     female  25.00      1      2  151.5500        S  \n",
       "...      ...    ...    ...    ...       ...      ...  \n",
       "1304  female  14.50      1      0   14.4542        C  \n",
       "1305  female    NaN      1      0   14.4542        C  \n",
       "1306    male  26.50      0      0    7.2250        C  \n",
       "1307    male  27.00      0      0    7.2250        C  \n",
       "1308    male  29.00      0      0    7.8750        S  \n",
       "\n",
       "[1309 rows x 9 columns]"
      ]
     },
     "execution_count": 15,
     "metadata": {},
     "output_type": "execute_result"
    }
   ],
   "source": [
    "import pandas as pd\n",
    "data = pd.read_csv('titanic.csv')\n",
    "data"
   ]
  },
  {
   "cell_type": "markdown",
   "metadata": {},
   "source": [
    "The name of a passenger might not be important in the Titanic dataset because it is unlikely to have a direct impact on whether or not the passenger survived the disaster. Therefore, let's remove it"
   ]
  },
  {
   "cell_type": "code",
   "execution_count": 16,
   "metadata": {},
   "outputs": [],
   "source": [
    "# Your task: drop the column \"name\"\n",
    "\n"
   ]
  },
  {
   "cell_type": "code",
   "execution_count": 21,
   "metadata": {},
   "outputs": [
    {
     "name": "stdout",
     "output_type": "stream",
     "text": [
      "% of positive samples in whole data: 0.3819709702062643\n"
     ]
    }
   ],
   "source": [
    "# Your task: find and print the proportion of positive samples in data\n",
    "\n"
   ]
  },
  {
   "cell_type": "markdown",
   "metadata": {},
   "source": [
    "Now, let's split the data in training and test sets. However, to avoid bais and for better results, we will  keep the proportion of the positive (survived) class in both splits the same. \n",
    "\n",
    "This can be done by creating a STRATIFIED split."
   ]
  },
  {
   "cell_type": "code",
   "execution_count": 22,
   "metadata": {
    "scrolled": true
   },
   "outputs": [
    {
     "name": "stdout",
     "output_type": "stream",
     "text": [
      "% of positive samples in train set: 0.38204393505253104\n",
      "% of positive samples in test set: 0.3816793893129771\n"
     ]
    }
   ],
   "source": [
    "from sklearn.model_selection import train_test_split\n",
    "\n",
    "# split data, use **stratify** option to create splits with same proportion of survived cases\n",
    "x_train, x_test, y_train, y_test = train_test_split(data.loc[:, 'pclass':], data['survived'],\n",
    "                                                    test_size=0.2, stratify=data['survived'], random_state=42)\n",
    "\n",
    "# find and print the proportion of positive samples in train and test sets, makeing sure they are approx same\n",
    "print('% of positive samples in train set:', sum(y_train== 1) / len(x_train))\n",
    "print('% of positive samples in test set:', sum(y_test== 1) / len(x_test))"
   ]
  },
  {
   "cell_type": "markdown",
   "metadata": {},
   "source": [
    "#### Data preprocessing\n",
    "\n",
    "This part implements basic data processing (Handling Missing Values, Encoding Categorical Features, and Feature Scaling). Feel free to change things and compare results as a part of your practice."
   ]
  },
  {
   "cell_type": "code",
   "execution_count": 23,
   "metadata": {},
   "outputs": [],
   "source": [
    "from sklearn.impute import SimpleImputer\n",
    "from sklearn.preprocessing import OneHotEncoder\n",
    "from sklearn.preprocessing import MinMaxScaler\n",
    "\n",
    "# imputing missing values\n",
    "imputer = SimpleImputer(strategy='most_frequent')\n",
    "imputer.fit(x_train)\n",
    "x_train = pd.DataFrame(imputer.transform(x_train), columns=x_train.columns)\n",
    "x_test = pd.DataFrame(imputer.transform(x_test), columns=x_test.columns)\n",
    "\n",
    "# one-hot-encode categorical features\n",
    "def ohe_new_features(df, features_name, encoder):\n",
    "    new_feats = encoder.transform(df[features_name])\n",
    "    # create dataframe from encoded features with named columns\n",
    "    new_cols = pd.DataFrame(new_feats, dtype=int, columns=encoder.get_feature_names_out(features_name))\n",
    "    new_df = pd.concat([df, new_cols], axis=1)    \n",
    "    new_df.drop(features_name, axis=1, inplace=True)\n",
    "    return new_df\n",
    "\n",
    "encoder = OneHotEncoder(sparse=False, drop='first')\n",
    "f_names = ['sex', 'embarked']\n",
    "encoder.fit(x_train[f_names])\n",
    "x_train = ohe_new_features(x_train, f_names, encoder)\n",
    "x_test = ohe_new_features(x_test, f_names, encoder)\n",
    "\n",
    "# feature scaling\n",
    "scaler = MinMaxScaler()\n",
    "scaler.fit(x_train)\n",
    "x_train = pd.DataFrame(scaler.transform(x_train), columns=x_train.columns)\n",
    "x_test = pd.DataFrame(scaler.transform(x_test), columns=x_test.columns)"
   ]
  },
  {
   "cell_type": "markdown",
   "metadata": {},
   "source": [
    "Let's visualize the processed data"
   ]
  },
  {
   "cell_type": "code",
   "execution_count": 24,
   "metadata": {
    "scrolled": true
   },
   "outputs": [
    {
     "data": {
      "text/html": [
       "<div>\n",
       "<style scoped>\n",
       "    .dataframe tbody tr th:only-of-type {\n",
       "        vertical-align: middle;\n",
       "    }\n",
       "\n",
       "    .dataframe tbody tr th {\n",
       "        vertical-align: top;\n",
       "    }\n",
       "\n",
       "    .dataframe thead th {\n",
       "        text-align: right;\n",
       "    }\n",
       "</style>\n",
       "<table border=\"1\" class=\"dataframe\">\n",
       "  <thead>\n",
       "    <tr style=\"text-align: right;\">\n",
       "      <th></th>\n",
       "      <th>pclass</th>\n",
       "      <th>age</th>\n",
       "      <th>sibsp</th>\n",
       "      <th>parch</th>\n",
       "      <th>fare</th>\n",
       "      <th>sex_male</th>\n",
       "      <th>embarked_Q</th>\n",
       "      <th>embarked_S</th>\n",
       "    </tr>\n",
       "  </thead>\n",
       "  <tbody>\n",
       "    <tr>\n",
       "      <th>0</th>\n",
       "      <td>1.0</td>\n",
       "      <td>0.297101</td>\n",
       "      <td>0.000</td>\n",
       "      <td>0.000000</td>\n",
       "      <td>0.015127</td>\n",
       "      <td>0.0</td>\n",
       "      <td>1.0</td>\n",
       "      <td>0.0</td>\n",
       "    </tr>\n",
       "    <tr>\n",
       "      <th>1</th>\n",
       "      <td>0.5</td>\n",
       "      <td>0.297101</td>\n",
       "      <td>0.125</td>\n",
       "      <td>0.000000</td>\n",
       "      <td>0.054107</td>\n",
       "      <td>0.0</td>\n",
       "      <td>0.0</td>\n",
       "      <td>0.0</td>\n",
       "    </tr>\n",
       "    <tr>\n",
       "      <th>2</th>\n",
       "      <td>1.0</td>\n",
       "      <td>0.133927</td>\n",
       "      <td>0.500</td>\n",
       "      <td>0.222222</td>\n",
       "      <td>0.061045</td>\n",
       "      <td>0.0</td>\n",
       "      <td>0.0</td>\n",
       "      <td>1.0</td>\n",
       "    </tr>\n",
       "    <tr>\n",
       "      <th>3</th>\n",
       "      <td>1.0</td>\n",
       "      <td>0.309652</td>\n",
       "      <td>0.000</td>\n",
       "      <td>0.000000</td>\n",
       "      <td>0.014102</td>\n",
       "      <td>1.0</td>\n",
       "      <td>0.0</td>\n",
       "      <td>0.0</td>\n",
       "    </tr>\n",
       "    <tr>\n",
       "      <th>4</th>\n",
       "      <td>1.0</td>\n",
       "      <td>0.196686</td>\n",
       "      <td>0.000</td>\n",
       "      <td>0.000000</td>\n",
       "      <td>0.014932</td>\n",
       "      <td>0.0</td>\n",
       "      <td>0.0</td>\n",
       "      <td>1.0</td>\n",
       "    </tr>\n",
       "    <tr>\n",
       "      <th>...</th>\n",
       "      <td>...</td>\n",
       "      <td>...</td>\n",
       "      <td>...</td>\n",
       "      <td>...</td>\n",
       "      <td>...</td>\n",
       "      <td>...</td>\n",
       "      <td>...</td>\n",
       "      <td>...</td>\n",
       "    </tr>\n",
       "    <tr>\n",
       "      <th>1042</th>\n",
       "      <td>1.0</td>\n",
       "      <td>0.585791</td>\n",
       "      <td>0.125</td>\n",
       "      <td>0.000000</td>\n",
       "      <td>0.013663</td>\n",
       "      <td>0.0</td>\n",
       "      <td>0.0</td>\n",
       "      <td>1.0</td>\n",
       "    </tr>\n",
       "    <tr>\n",
       "      <th>1043</th>\n",
       "      <td>1.0</td>\n",
       "      <td>0.020961</td>\n",
       "      <td>0.500</td>\n",
       "      <td>0.111111</td>\n",
       "      <td>0.077465</td>\n",
       "      <td>1.0</td>\n",
       "      <td>0.0</td>\n",
       "      <td>1.0</td>\n",
       "    </tr>\n",
       "    <tr>\n",
       "      <th>1044</th>\n",
       "      <td>1.0</td>\n",
       "      <td>0.209238</td>\n",
       "      <td>0.250</td>\n",
       "      <td>0.000000</td>\n",
       "      <td>0.015713</td>\n",
       "      <td>1.0</td>\n",
       "      <td>0.0</td>\n",
       "      <td>1.0</td>\n",
       "    </tr>\n",
       "    <tr>\n",
       "      <th>1045</th>\n",
       "      <td>0.5</td>\n",
       "      <td>0.234342</td>\n",
       "      <td>0.000</td>\n",
       "      <td>0.000000</td>\n",
       "      <td>0.020495</td>\n",
       "      <td>1.0</td>\n",
       "      <td>0.0</td>\n",
       "      <td>1.0</td>\n",
       "    </tr>\n",
       "    <tr>\n",
       "      <th>1046</th>\n",
       "      <td>1.0</td>\n",
       "      <td>0.271997</td>\n",
       "      <td>0.000</td>\n",
       "      <td>0.000000</td>\n",
       "      <td>0.015713</td>\n",
       "      <td>1.0</td>\n",
       "      <td>0.0</td>\n",
       "      <td>1.0</td>\n",
       "    </tr>\n",
       "  </tbody>\n",
       "</table>\n",
       "<p>1047 rows × 8 columns</p>\n",
       "</div>"
      ],
      "text/plain": [
       "      pclass       age  sibsp     parch      fare  sex_male  embarked_Q  \\\n",
       "0        1.0  0.297101  0.000  0.000000  0.015127       0.0         1.0   \n",
       "1        0.5  0.297101  0.125  0.000000  0.054107       0.0         0.0   \n",
       "2        1.0  0.133927  0.500  0.222222  0.061045       0.0         0.0   \n",
       "3        1.0  0.309652  0.000  0.000000  0.014102       1.0         0.0   \n",
       "4        1.0  0.196686  0.000  0.000000  0.014932       0.0         0.0   \n",
       "...      ...       ...    ...       ...       ...       ...         ...   \n",
       "1042     1.0  0.585791  0.125  0.000000  0.013663       0.0         0.0   \n",
       "1043     1.0  0.020961  0.500  0.111111  0.077465       1.0         0.0   \n",
       "1044     1.0  0.209238  0.250  0.000000  0.015713       1.0         0.0   \n",
       "1045     0.5  0.234342  0.000  0.000000  0.020495       1.0         0.0   \n",
       "1046     1.0  0.271997  0.000  0.000000  0.015713       1.0         0.0   \n",
       "\n",
       "      embarked_S  \n",
       "0            0.0  \n",
       "1            0.0  \n",
       "2            1.0  \n",
       "3            0.0  \n",
       "4            1.0  \n",
       "...          ...  \n",
       "1042         1.0  \n",
       "1043         1.0  \n",
       "1044         1.0  \n",
       "1045         1.0  \n",
       "1046         1.0  \n",
       "\n",
       "[1047 rows x 8 columns]"
      ]
     },
     "execution_count": 24,
     "metadata": {},
     "output_type": "execute_result"
    }
   ],
   "source": [
    "x_train"
   ]
  },
  {
   "cell_type": "markdown",
   "metadata": {},
   "source": [
    "### Logistic Regression\n",
    "\n",
    "- First, please carefully review the description of LogisticRegression class at https://scikit-learn.org/stable/modules/generated/sklearn.linear_model.LogisticRegression.html\n",
    "\n",
    "- Then see the Logistic Regression in practice below. "
   ]
  },
  {
   "cell_type": "code",
   "execution_count": 25,
   "metadata": {
    "scrolled": true
   },
   "outputs": [
    {
     "name": "stdout",
     "output_type": "stream",
     "text": [
      "Testing accuracy = 0.8129770992366412\n",
      "Testing precision = 0.7684210526315789\n",
      "Testing recall = 0.73\n"
     ]
    }
   ],
   "source": [
    "from sklearn.linear_model import LogisticRegression\n",
    "from sklearn import metrics\n",
    "\n",
    "clf = LogisticRegression(random_state=42).fit(x_train, y_train)\n",
    "y_test_pred = clf.predict(x_test)\n",
    "\n",
    "print('Testing accuracy = {}'.format(metrics.accuracy_score(y_test, y_test_pred)))\n",
    "print('Testing precision = {}'.format(metrics.precision_score(y_test, y_test_pred)))\n",
    "print('Testing recall = {}'.format(metrics.recall_score(y_test, y_test_pred)))"
   ]
  },
  {
   "cell_type": "markdown",
   "metadata": {},
   "source": [
    "## Part 3: Choosing an optimum threshold:\n",
    "\n",
    "As we learned in the lecture that it is important to choose the right threshold to get optimum results from logistic regression.\n",
    "\n",
    "In this part, we will implement the thresholding procedure to select the optimum threshold for our classifier. \n",
    "\n",
    "Please note that in order to find the optimum threshold, instead of predicting the class labels, we will predict class probabilities using the <span style=\"color:blue\"> predict_proba </span> function.\n"
   ]
  },
  {
   "cell_type": "markdown",
   "metadata": {},
   "source": [
    "Below, you have an example of a simple (simulated) binary classification problem having 1000 samples points and 2 features. A logistic regression model is fitted to the data and then thresholding is performed for this model using the ROC curve as your learned in the guided practice 1. \n",
    "\n",
    "<span style=\"color:blue\"> (1) Please carefully review the code below and analyze its output. (2) Complete the challenge activity. </span>"
   ]
  },
  {
   "cell_type": "code",
   "execution_count": 26,
   "metadata": {},
   "outputs": [
    {
     "data": {
      "image/png": "[encoded data removed]",
      "text/plain": [
       "<Figure size 640x480 with 1 Axes>"
      ]
     },
     "metadata": {},
     "output_type": "display_data"
    }
   ],
   "source": [
    "# roc curve for logistic regression model\n",
    "from sklearn.datasets import make_classification\n",
    "from sklearn.linear_model import LogisticRegression\n",
    "from sklearn.model_selection import train_test_split\n",
    "from sklearn.metrics import roc_curve\n",
    "from matplotlib import pyplot\n",
    "\n",
    "# generate dataset\n",
    "X, y = make_classification(n_samples=10000, n_features=2, n_redundant=0,\n",
    " n_clusters_per_class=1, weights=[0.99], flip_y=0, random_state=4)\n",
    "\n",
    "# split into train/test sets\n",
    "trainX, testX, trainy, testy = train_test_split(X, y, test_size=0.5, random_state=2, stratify=y)\n",
    "\n",
    "# fit a model\n",
    "model = LogisticRegression(solver='lbfgs')\n",
    "model.fit(trainX, trainy)\n",
    "\n",
    "# predict probabilities\n",
    "yhat = model.predict_proba(testX)\n",
    "\n",
    "# keep probabilities for the positive outcome only\n",
    "yhat = yhat[:, 1]\n",
    "\n",
    "# calculate roc curves\n",
    "fpr, tpr, thresholds = roc_curve(testy, yhat)\n",
    "\n",
    "# plot the roc curve for the model\n",
    "pyplot.plot([0,1], [0,1], linestyle='--', label='Random Guess')\n",
    "pyplot.plot(fpr, tpr, marker='.', label='Logistic')\n",
    "\n",
    "# axis labels\n",
    "pyplot.xlabel('False Positive Rate')\n",
    "pyplot.ylabel('True Positive Rate')\n",
    "pyplot.legend()\n",
    "\n",
    "# show the plot\n",
    "pyplot.show()"
   ]
  },
  {
   "cell_type": "markdown",
   "metadata": {},
   "source": [
    "Given the ROC curver, we can select the optimum threshold using a well-known statistical measure called Youden’s J statistic. \n",
    "\n",
    "[Optional Reading] You can read about it at https://en.wikipedia.org/wiki/Youden%27s_J_statistic\n",
    "\n",
    "The statistic is calculated as:\n",
    "\n",
    "<span style=\"color:blue\"> J = TruePositiveRate – FalsePositiveRate </span>\n",
    "\n",
    "Youden’s J statistic has a value between 0 and 1. In a perfect test, it equals 1. Therefore, The optimum threshold is chosen to be the one with the largest J statistic value."
   ]
  },
  {
   "cell_type": "code",
   "execution_count": 27,
   "metadata": {},
   "outputs": [
    {
     "name": "stdout",
     "output_type": "stream",
     "text": [
      "Best Threshold=0.016153\n"
     ]
    }
   ],
   "source": [
    "from numpy import argmax\n",
    "\n",
    "J = tpr - fpr\n",
    "ix = argmax(J)\n",
    "best_thresh = thresholds[ix]\n",
    "print('Best Threshold=%f' % (best_thresh))"
   ]
  },
  {
   "cell_type": "markdown",
   "metadata": {},
   "source": [
    "## Challenge Activity:\n",
    "\n",
    "Implement the above thresholding procedure for the logistic regression model that you trained on titanic data in Part 2 of this guided practice to select the optimum threshold for your model."
   ]
  },
  {
   "cell_type": "code",
   "execution_count": 1,
   "metadata": {},
   "outputs": [],
   "source": [
    "# write your code below\n",
    "\n"
   ]
  },
  {
   "cell_type": "code",
   "execution_count": null,
   "metadata": {},
   "outputs": [],
   "source": []
  }
 ],
 "metadata": {
  "colab": {
   "name": "Week3BSWithAnswers.ipynb",
   "provenance": [],
   "version": "0.3.2"
  },
  "kernelspec": {
   "display_name": "Python 3 (ipykernel)",
   "language": "python",
   "name": "python3"
  },
  "language_info": {
   "codemirror_mode": {
    "name": "ipython",
    "version": 3
   },
   "file_extension": ".py",
   "mimetype": "text/x-python",
   "name": "python",
   "nbconvert_exporter": "python",
   "pygments_lexer": "ipython3",
   "version": "3.8.8"
  },
  "vscode": {
   "interpreter": {
    "hash": "aee8b7b246df8f9039afb4144a1f6fd8d2ca17a180786b69acc140d282b71a49"
   }
  }
 },
 "nbformat": 4,
 "nbformat_minor": 1
}
